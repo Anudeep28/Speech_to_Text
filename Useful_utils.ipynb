{
 "cells": [
  {
   "cell_type": "code",
   "execution_count": null,
   "metadata": {},
   "outputs": [],
   "source": [
    "import webbrowser\n",
    "with open('links.txt') as file:\n",
    "    links = file.readlines()\n",
    "    for link in links: \n",
    "        webbrowser.open('link')"
   ]
  },
  {
   "cell_type": "markdown",
   "metadata": {},
   "source": [
    "## Image download\n",
    "Gathering a large amount of image data is a key challenge in computer vision projects. As Andrew Ng points out, having a big dataset can be more important than the specific algorithm used. High-quality data is essential for improving the performance and accuracy of machine learning models. This automation script makes the process easier by letting you download a set number of images from the web in just minutes with minimal coding effort."
   ]
  },
  {
   "cell_type": "code",
   "execution_count": null,
   "metadata": {},
   "outputs": [],
   "source": [
    "# Importing the necessary module and function\n",
    "from simple_image_download import simple_image_download as simp \n",
    "\n",
    "# Creating a response object\n",
    "response = simp.simple_image_download\n",
    "\n",
    "## Keyword\n",
    "keyword = \"Dog\"\n",
    "\n",
    "# Downloading images\n",
    "try:\n",
    "    response().download(keyword, 20)\n",
    "    print(\"Images downloaded successfully.\")\n",
    "except Exception as e:\n",
    "    print(\"An error occurred:\", e)"
   ]
  },
  {
   "cell_type": "markdown",
   "metadata": {},
   "source": [
    "## Inspecting the python code"
   ]
  },
  {
   "cell_type": "code",
   "execution_count": null,
   "metadata": {},
   "outputs": [],
   "source": [
    "import os\n",
    "import subprocess\n",
    "\n",
    "def analyze_code(directory):\n",
    "    # List Python files in the directory\n",
    "    python_files = [file for file in os.listdir(directory) if file.endswith('.py')]\n",
    "\n",
    "    if not python_files:\n",
    "        print(\"No Python files found in the specified directory.\")\n",
    "        return\n",
    "\n",
    "    # Analyze each Python file using pylint and flake8\n",
    "    for file in python_files:\n",
    "        print(f\"Analyzing file: {file}\")\n",
    "        file_path = os.path.join(directory, file)\n",
    "\n",
    "        # Run pylint\n",
    "        print(\"\\nRunning pylint...\")\n",
    "        pylint_command = f\"pylint {file_path}\"\n",
    "        subprocess.run(pylint_command, shell=True)\n",
    "\n",
    "        # Run flake8\n",
    "        print(\"\\nRunning flake8...\")\n",
    "        flake8_command = f\"flake8 {file_path}\"\n",
    "        subprocess.run(flake8_command, shell=True)\n",
    "\n",
    "if __name__ == \"__main__\":\n",
    "    directory = r\"C:\\Users\\abhay\\OneDrive\\Desktop\\Part7\"\n",
    "    analyze_code(directory)"
   ]
  },
  {
   "cell_type": "markdown",
   "metadata": {},
   "source": [
    "# Dummy Data\n",
    "Whether you're a data scientist needing sample data to test models or just looking to fill out an unnecessary form with random information, this Python automation script proves incredibly useful. It generates realistic-looking but entirely artificial datasets, perfect for testing, development, and simulation purposes. This tool can quickly create names, emails, phone numbers, and more, providing a versatile solution for various data generation needs."
   ]
  },
  {
   "cell_type": "code",
   "execution_count": null,
   "metadata": {},
   "outputs": [],
   "source": [
    "import pandas as pd\n",
    "from faker import Faker\n",
    "import random\n",
    "\n",
    "fake = Faker()\n",
    "\n",
    "def generate_fake_data(num_entries=10):\n",
    "    data = []\n",
    "\n",
    "    for _ in range(num_entries):\n",
    "        entry = {\n",
    "            \"Name\": fake.name(),\n",
    "            \"Address\": fake.address(),\n",
    "            \"Email\": fake.email(),\n",
    "            \"Phone Number\": fake.phone_number(),\n",
    "            \"Date of Birth\": fake.date_of_birth(minimum_age=18, maximum_age=65).strftime(\"%Y-%m-%d\"),\n",
    "            \"Random Number\": random.randint(1, 100),\n",
    "            \"Job Title\": fake.job(),\n",
    "            \"Company\": fake.company(),\n",
    "            \"Lorem Ipsum Text\": fake.text(),\n",
    "        }\n",
    "        data.append(entry)\n",
    "\n",
    "    return pd.DataFrame(data)\n",
    "\n",
    "if __name__ == \"__main__\":\n",
    "    num_entries = 10  # You can adjust the number of entries you want to generate\n",
    "    fake_data_df = generate_fake_data(num_entries)"
   ]
  },
  {
   "cell_type": "markdown",
   "metadata": {},
   "source": [
    "## Reminders\n",
    "I often need to remember important tasks while immersed in my work. To address this and boost my productivity, I developed MemoryMate using Python, which serves as my digital memory aid. It sends me reminders with custom messages after a specified period to ensure I complete my tasks on time. MemoryMate has significantly improved my productivity and helped me consistently meet deadlines. The best part is that it's simple, easy to replicate, and incredibly useful."
   ]
  },
  {
   "cell_type": "code",
   "execution_count": null,
   "metadata": {},
   "outputs": [],
   "source": [
    "from win10toast import ToastNotifier\n",
    "import time\n",
    "\n",
    "toaster = ToastNotifier()\n",
    "\n",
    "def set_reminder():\n",
    "    reminder_header = input(\"What would you like me to remember?\\n\")\n",
    "    related_message = input(\"Related Message:\\n\")\n",
    "    time_minutes = float(input(\"In how many minutes?\\n\"))\n",
    "\n",
    "    time_seconds = time_minutes * 60\n",
    "\n",
    "    print(\"Setting up reminder...\")\n",
    "    time.sleep(2)\n",
    "    print(\"All set!\")\n",
    "\n",
    "    time.sleep(time_seconds)\n",
    "\n",
    "    toaster.show_toast(\n",
    "        title=f\"{reminder_header}\",\n",
    "        msg=f\"{related_message}\",\n",
    "        duration=10,\n",
    "        threaded=True\n",
    "    )\n",
    "\n",
    "    while toaster.notification_active():\n",
    "        time.sleep(0.005)\n",
    "\n",
    "if __name__ == \"__main__\":\n",
    "    set_reminder()"
   ]
  },
  {
   "cell_type": "markdown",
   "metadata": {},
   "source": [
    "## PC monitoring\n",
    "System resource monitoring is crucial for displaying real-time utilization of various system resources. It's an invaluable tool for users, system administrators, and developers who need to keep track of system performance, identify bottlenecks, and ensure efficient resource management. This Python automation script helps monitor CPU, GPU, battery, and memory usage, generating alerts if any resource usage exceeds safe thresholds."
   ]
  },
  {
   "cell_type": "code",
   "execution_count": null,
   "metadata": {},
   "outputs": [],
   "source": [
    "import psutil\n",
    "import time\n",
    "from win10toast import ToastNotifier\n",
    "\n",
    "# Initialize the ToastNotifier object\n",
    "toaster = ToastNotifier()\n",
    "\n",
    "# Set the threshold values for CPU usage, memory usage, GPU usage, and battery level\n",
    "cpu_threshold = 40  # Percentage\n",
    "memory_threshold = 40  # Percentage\n",
    "gpu_threshold = 40  # Percentage\n",
    "battery_threshold = 100  # Percentage\n",
    "\n",
    "# Infinite loop to continuously monitor system resources\n",
    "while True:\n",
    "    try:\n",
    "        # Get system resource information\n",
    "        cpu_usage = psutil.cpu_percent(interval=1)\n",
    "        memory_usage = psutil.virtual_memory().percent\n",
    "        gpu_usage = psutil.virtual_memory().percent\n",
    "        battery = psutil.sensors_battery()\n",
    "\n",
    "        # Check CPU usage\n",
    "        if cpu_usage >= cpu_threshold:\n",
    "            message = f\"CPU usage is high: {cpu_usage}%\"\n",
    "            toaster.show_toast(\"Resource Alert\", message, duration=10)\n",
    "\n",
    "        # Check memory usage\n",
    "        if memory_usage >= memory_threshold:\n",
    "            message = f\"Memory usage is high: {memory_usage}%\"\n",
    "            toaster.show_toast(\"Resource Alert\", message, duration=10)\n",
    "\n",
    "        # Check GPU usage\n",
    "        if gpu_usage >= gpu_threshold:\n",
    "            message = f\"GPU usage is high: {gpu_usage}%\"\n",
    "            toaster.show_toast(\"Resource Alert\", message, duration=10)\n",
    "\n",
    "        # Check battery level\n",
    "        if battery is not None and battery.percent <= battery_threshold and not battery.power_plugged:\n",
    "            message = f\"Battery level is low: {battery.percent}%\"\n",
    "            toaster.show_toast(\"Battery Alert\", message, duration=10)\n",
    "\n",
    "        # Wait for 5 minutes before checking the resources again\n",
    "        time.sleep(300)\n",
    "\n",
    "    except Exception as e:\n",
    "        print(\"An error occurred:\", str(e))\n",
    "        break"
   ]
  },
  {
   "cell_type": "markdown",
   "metadata": {},
   "source": [
    "## 12. SpellGuard\n",
    "No matter how proficient we are in English, we all make spelling and grammar mistakes when writing lengthy reports, articles, or research papers. In the age of AI, numerous powerful Python packages can help rectify these errors and provide a polished proofread to your work. This Python script leverages AI to detect and correct spelling and grammar mistakes, ensuring your writing is clear, accurate, and professional."
   ]
  },
  {
   "cell_type": "code",
   "execution_count": null,
   "metadata": {},
   "outputs": [],
   "source": [
    "## Installing Library\n",
    "!pip install lmproof\n",
    "\n",
    "## Importing Library\n",
    "import lmproof as lm\n",
    "\n",
    "## Function for proofreading \n",
    "def Proofread(text):\n",
    "    proof = lm.load(\"en\")\n",
    "    error_free_text = proof.proofread(text)\n",
    "    return error_free_text\n",
    "\n",
    "## Sample Text\n",
    "TEXT = '' ## Place sample Text here\n",
    "\n",
    "## Function Call \n",
    "Print(Proofread(TEXT))"
   ]
  },
  {
   "cell_type": "markdown",
   "metadata": {},
   "source": [
    "## 14. DailyDigest\n",
    "Staying informed about the latest happenings in your city, state, country, or the world is important, but our busy schedules often prevent us from dedicating time to reading the news. This automation script solves that problem by scraping trending news from Google News and reading it out loud to you. Whether you're starting your day or on the go, this script ensures you stay updated with the top news stories effortlessly."
   ]
  },
  {
   "cell_type": "code",
   "execution_count": null,
   "metadata": {},
   "outputs": [],
   "source": [
    "import pyttsx3 \n",
    "import requests\n",
    "\n",
    "engine = pyttsx3.init('sapi5')\n",
    "voices = engine.getProperty('voices')\n",
    "engine.setProperty('voice', voices[0].id)\n",
    "\n",
    "def speak(audio):\n",
    "    engine.say(audio)\n",
    "    engine.runAndWait()\n",
    "\n",
    "def trndnews(): \n",
    "    url = \" http://newsapi.org/v2/top-headlines?country=us&apiKey=GET_YOUR_OWN\"\n",
    "    page = requests.get(url).json() \n",
    "    article = page[\"articles\"] \n",
    "    results = [] \n",
    "    for ar in article: \n",
    "        results.append(ar[\"title\"]) \n",
    "    for i in range(len(results)): \n",
    "        print(i + 1, results[i]) \n",
    "    speak(results)\n",
    "    \n",
    "trndnews() \n",
    " \n",
    "''' Run The Script To Get The Top Headlines From USA'''"
   ]
  },
  {
   "cell_type": "markdown",
   "metadata": {},
   "source": [
    "## QR generator \n",
    "The popularity of QR Codes has skyrocketed once people started using them for sending and receiving payments. Nowadays they are used to share social links, secret messages, coupon codes, and more. This Python automation script helps you create customized QR codes with your chosen data, allowing you to share information effortlessly and impress your audience."
   ]
  },
  {
   "cell_type": "code",
   "execution_count": null,
   "metadata": {},
   "outputs": [],
   "source": [
    "import qrcode\n",
    "\n",
    "def generate_qr_code(link, filename):\n",
    "    \"\"\"Generates a QR code for the given link and saves it as filename.\"\"\"\n",
    "\n",
    "    qr = qrcode.QRCode(\n",
    "        version=1,\n",
    "        error_correction=qrcode.constants.ERROR_CORRECT_L,\n",
    "        box_size=10,\n",
    "        border=4,\n",
    "    )\n",
    "    qr.add_data(link)\n",
    "    qr.make(fit=True)\n",
    "\n",
    "    img = qr.make_image(fill_color=\"black\", back_color=\"white\")\n",
    "    img.save(\"profile.png\")\n",
    "\n",
    "if __name__ == \"__main__\":\n",
    "    generate_qr_code(\"https://abhayparashar31.medium.com/\", \"Profile.png\")\n",
    "    print(f\"QR code saved successfully!!\")"
   ]
  },
  {
   "cell_type": "markdown",
   "metadata": {},
   "source": []
  },
  {
   "cell_type": "code",
   "execution_count": null,
   "metadata": {},
   "outputs": [],
   "source": []
  }
 ],
 "metadata": {
  "kernelspec": {
   "display_name": "myenv",
   "language": "python",
   "name": "python3"
  },
  "language_info": {
   "codemirror_mode": {
    "name": "ipython",
    "version": 3
   },
   "file_extension": ".py",
   "mimetype": "text/x-python",
   "name": "python",
   "nbconvert_exporter": "python",
   "pygments_lexer": "ipython3",
   "version": "3.10.11"
  }
 },
 "nbformat": 4,
 "nbformat_minor": 2
}
