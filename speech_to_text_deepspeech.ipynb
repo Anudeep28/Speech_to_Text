{
  "cells": [
    {
      "cell_type": "markdown",
      "metadata": {
        "colab_type": "text",
        "id": "view-in-github"
      },
      "source": [
        "<a href=\"https://colab.research.google.com/github/Anudeep28/Speech_to_Text/blob/main/speech_to_text.ipynb\" target=\"_parent\"><img src=\"https://colab.research.google.com/assets/colab-badge.svg\" alt=\"Open In Colab\"/></a>"
      ]
    },
    {
      "cell_type": "code",
      "execution_count": 1,
      "metadata": {
        "id": "73ksq0QrlN1M"
      },
      "outputs": [],
      "source": [
        "import requests"
      ]
    },
    {
      "cell_type": "code",
      "execution_count": 2,
      "metadata": {
        "colab": {
          "base_uri": "https://localhost:8080/"
        },
        "id": "gQz027TyrhBR",
        "outputId": "00178d7e-da6a-4059-9e2e-9741c26fdd75"
      },
      "outputs": [
        {
          "name": "stdout",
          "output_type": "stream",
          "text": [
            "<Response [200]>\n"
          ]
        }
      ],
      "source": [
        "with open('deepspeech/deepspeech-0.9.3-models.tar.gz', 'wb') as f:\n",
        "  response = requests.get('https://github.com/mozilla/DeepSpeech/archive/v0.9.3.tar.gz')\n",
        "  print(response)\n",
        "  f.write(response.content)"
      ]
    },
    {
      "cell_type": "code",
      "execution_count": 3,
      "metadata": {
        "id": "ARJLUsF_rg6q"
      },
      "outputs": [
        {
          "name": "stderr",
          "output_type": "stream",
          "text": [
            "C:\\Users\\anupa\\AppData\\Local\\Temp\\ipykernel_19244\\740098691.py:4: DeprecationWarning: Python 3.14 will, by default, filter extracted tar archives and reject files or modify their metadata. Use the filter argument to control this behavior.\n",
            "  f.extractall('deepspeech/')\n"
          ]
        }
      ],
      "source": [
        "import tarfile\n",
        "# extract the file\n",
        "with tarfile.open('deepspeech/deepspeech-0.9.3-models.tar.gz') as f:\n",
        "  f.extractall('deepspeech/')"
      ]
    },
    {
      "cell_type": "code",
      "execution_count": null,
      "metadata": {
        "id": "_Km7fnLi8pom"
      },
      "outputs": [],
      "source": []
    }
  ],
  "metadata": {
    "accelerator": "GPU",
    "colab": {
      "authorship_tag": "ABX9TyOhRIe0ndJQgYGPd2r0rCMC",
      "gpuType": "T4",
      "include_colab_link": true,
      "provenance": []
    },
    "kernelspec": {
      "display_name": "Python 3",
      "name": "python3"
    },
    "language_info": {
      "codemirror_mode": {
        "name": "ipython",
        "version": 3
      },
      "file_extension": ".py",
      "mimetype": "text/x-python",
      "name": "python",
      "nbconvert_exporter": "python",
      "pygments_lexer": "ipython3",
      "version": "3.12.5"
    }
  },
  "nbformat": 4,
  "nbformat_minor": 0
}
